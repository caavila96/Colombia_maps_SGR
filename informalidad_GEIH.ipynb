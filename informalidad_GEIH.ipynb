{
  "nbformat": 4,
  "nbformat_minor": 0,
  "metadata": {
    "colab": {
      "provenance": [],
      "include_colab_link": true
    },
    "kernelspec": {
      "name": "python3",
      "display_name": "Python 3"
    },
    "language_info": {
      "name": "python"
    }
  },
  "cells": [
    {
      "cell_type": "markdown",
      "metadata": {
        "id": "view-in-github",
        "colab_type": "text"
      },
      "source": [
        "<a href=\"https://colab.research.google.com/github/caavila96/Colombia_maps_SGR/blob/main/informalidad_GEIH.ipynb\" target=\"_parent\"><img src=\"https://colab.research.google.com/assets/colab-badge.svg\" alt=\"Open In Colab\"/></a>"
      ]
    },
    {
      "cell_type": "markdown",
      "source": [
        "# **Proyecto para la estimación de los determinantes de la informalidad laboral en Colombia.**\n",
        "\n",
        "Para la generación de este proyecto se usará la base de datos de la Gran Encuesta Integrada de Hogares - GEIH 2022, esta base de datos es publicada por el Departamento Administrativo Nacional de Estadísticas - DANE de forma mensual (anonimizada) en diversos formatos.\n",
        "\n",
        "Teniendo en cuenta esto se han subido los 12 meses a un respositorio en Github en formato .zip, cada uno de los formatos contiene un total de 9 tablas, a saber\n",
        "\n",
        "*   Características generales, seguridad social en salud y educación \n",
        "*   Datos del hogar y la vivienda.\n",
        "*   Fuerza de trabajo\n",
        "*   Migración \n",
        "*   No ocupados\n",
        "*   Ocupados\n",
        "*   Otras formas de trabajo\n",
        "*   Otros ingresos e impuestos\n",
        "*   Tipo de investigación\n",
        "\n",
        "Dado el objetivo de la investigación solo se tendran en cuenta tres bases, a saber:\n",
        "\n",
        "*   Características generales, seguridad social en salud y educación \n",
        "*   Datos del hogar y la vivienda.\n",
        "*   Fuerza de trabajo\n",
        "*   Ocupados\n",
        "\n",
        "\n",
        "\n"
      ],
      "metadata": {
        "id": "3zvCxS4xEVr9"
      }
    },
    {
      "cell_type": "markdown",
      "source": [
        "## **1. Librerias a ser utilizadas**"
      ],
      "metadata": {
        "id": "Bp5cM7S-JRy5"
      }
    },
    {
      "cell_type": "code",
      "source": [
        "!apt-get install git -y"
      ],
      "metadata": {
        "colab": {
          "base_uri": "https://localhost:8080/"
        },
        "id": "A6BtPx36-yXy",
        "outputId": "c227d92b-5ef1-4740-d30b-1dbe11e0ed7c"
      },
      "execution_count": 81,
      "outputs": [
        {
          "output_type": "stream",
          "name": "stderr",
          "text": [
            "/usr/local/lib/python3.10/dist-packages/ipykernel/ipkernel.py:283: DeprecationWarning: `should_run_async` will not call `transform_cell` automatically in the future. Please pass the result to `transformed_cell` argument and any exception that happen during thetransform in `preprocessing_exc_tuple` in IPython 7.17 and above.\n",
            "  and should_run_async(code)\n"
          ]
        },
        {
          "output_type": "stream",
          "name": "stdout",
          "text": [
            "Reading package lists... Done\n",
            "Building dependency tree       \n",
            "Reading state information... Done\n",
            "git is already the newest version (1:2.25.1-1ubuntu3.11).\n",
            "0 upgraded, 0 newly installed, 0 to remove and 28 not upgraded.\n"
          ]
        }
      ]
    },
    {
      "cell_type": "code",
      "source": [
        "import pandas as pd   \n",
        "import numpy as np\n",
        "import matplotlib.pyplot as plt\n",
        "import seaborn as sns \n",
        "\n",
        "import requests #Descargar información Github\n",
        "import io       #Herramientas principales para trabajar con streams\n",
        "from zipfile import ZipFile #Apertura de los zip file\n",
        "from functools import reduce #Usado para pegar las tablas\n",
        "import gc #Limpiar memoria\n",
        "import matplotlib.font_manager as fm # Manejo de fuentes\n",
        "import matplotlib\n",
        "\n",
        "import warnings\n",
        "warnings.filterwarnings(\"ignore\", category=UnicodeWarning) #ignorar erroes de UTF-8 y Latin-1\n",
        "warnings.filterwarnings(\"ignore\") "
      ],
      "metadata": {
        "id": "rTNh_ZRhJRWQ"
      },
      "execution_count": 82,
      "outputs": []
    },
    {
      "cell_type": "markdown",
      "source": [
        "## **2. Impotar información y filtro inicial de variables.**\n",
        "\n",
        "Para ello se descarga cada uno de los meses se hace el pegue de las bases, se gudarda en el disco temporal y posteriormente se unen los 12 meses. Para que la salida final no genera una base de datos tan pesada se creará una lista (collist) la cual contendrá las variables seleccionadas para el presente análisis. "
      ],
      "metadata": {
        "id": "OyldK3MDLlGi"
      }
    },
    {
      "cell_type": "code",
      "source": [
        "\n",
        "#Se crea una lista vacía para guardar la base por cada mes\n",
        "year = []\n",
        "#Se crea una lista con los meses del 01 hasta el 12 string\n",
        "month = []\n",
        "for i in range(1, 13):\n",
        "  month.append(str(i).zfill(2))\n",
        "\n",
        "for m in month:\n",
        "\n",
        "  #url de Github donde se encuentran los datos\n",
        "  url = \" https://github.com/caavila96/Informalidad_GEIH_2022/blob/33c817cad9cc205dbb6ebd8f935b2c2e1612bd14/BASE/\"+ m + \".zip?raw=true\"\n",
        "\n",
        "\n",
        "  # Descarga de los datos de Github\n",
        "  response = requests.get(url)\n",
        "  data = io.BytesIO(response.content)\n",
        "\n",
        "  # Se define una lista que contiene los nombres de las tablas que serán utilizadas\n",
        "  tables = ['Características generales, seguridad social en salud y educación.dta',\n",
        "                    'Datos del hogar y la vivienda.dta',\n",
        "                    'Fuerza de trabajo.dta',\n",
        "                    'Migración.dta',\n",
        "                    'Ocupados.dta']\n",
        "\n",
        "  # Se crea una lista donde se cargaran todas las tablas definidas\n",
        "  dfs = []\n",
        "\n",
        "  # Se extraen todos los datos definidos en la lista tables\n",
        "  with ZipFile(data, \"r\") as zip_ref:\n",
        "      for file in zip_ref.namelist():\n",
        "          if any(file.endswith(f) for f in tables):\n",
        "              with zip_ref.open(file) as f:\n",
        "                  df = pd.read_stata(f, convert_categoricals=False)\n",
        "                  df.columns = df.columns.str.upper()\n",
        "                  df[\"MES\"] = m\n",
        "                  dfs.append(df)\n",
        "\n",
        "  ##Se crea una lista de data frames con las bases de persona\n",
        "  p_df =[df for j, df in enumerate(dfs) if j != 1]\n",
        "\n",
        "  #Se realiza el pegue de las bases a nivel de persona, se crea un sufijo para eliminar las variables duplicadas\n",
        "  p_df = reduce(lambda df1,df2: pd.merge(df1,df2,on=[\"DIRECTORIO\",\"SECUENCIA_P\",\"ORDEN\"], how = \"left\",suffixes=('', '_remove')),  [df for j, df in enumerate(dfs) if j != 1])\n",
        "\n",
        "  # Se realiza el pegue de las bases de personas con la base de vivienda y hogares\n",
        "  t_df = pd.merge(p_df,dfs[1],on=[\"DIRECTORIO\",\"SECUENCIA_P\"], how = \"left\",suffixes=('', '_remove'))\n",
        "\n",
        "  #Se remueven las variables duplicadas\n",
        "  t_df.drop([i for i in t_df.columns if 'remove' in i],\n",
        "                axis=1, inplace=True)\n",
        "  \n",
        "  #Se realiza el filtro de la lista de variable seleccionadas\n",
        "  collist = [\"DIRECTORIO\",\"SECUENCIA_P\",\"ORDEN\",\"MES\",\"CLASE\",\"AREA\",\"DPTO\",\"P3271\",\"P6040\",\"P6050\",\"P6080\", \"P3042\",\"P3042S1\",\"P3043\",\"OCI\",\n",
        " \"P3069\",\"P6426\",\"OFICIO_C8\",\"P6430\",\"RAMA2D_R4\",\"P3045S1\",\"P3046\",\"P3069\",\"P3065\",\"P3066\",\"P6765\",\"OFICIO_C8\",\"P3067\",\n",
        " \"P3067S1\",\"P3067S2\",\"P6775\",\"P3068\",\"P6100\",\"P6110\",\"P6450\",\"P6920\",\"P6930\",\"P6940\",\"P3373\",\"P3373S3\",\"P3373S3A1\",\n",
        " \"P3373S3A2\",\"P3382\",\"P3382S3\",\"P3384\",\"P3384S3\",\"FEX_C18\"]\n",
        " \n",
        "  t_df = t_df.filter(items = collist, axis = 1)\n",
        "\n",
        "  #Se guarda la base de datos en la lista \n",
        "  year.append(t_df)\n",
        "\n",
        "#Se crea una función para unir todas las tablas teniendo en cuenta el nombre de la variable\n",
        "def unionByName(df1, df2):\n",
        "    common_cols = df1.columns.intersection(df2.columns)\n",
        "    combined_df = pd.concat([df1[common_cols], df2[common_cols]], ignore_index=True)\n",
        "    return combined_df\n",
        "\n",
        "# Se aplica a toda la lista de años \n",
        "df_final  = reduce(unionByName, year)\n",
        "\n",
        "# Se elimina la lista de años y se limpia la memoria RAM\n",
        "del year\n",
        "gc.collect()"
      ],
      "metadata": {
        "id": "6X3OXXM6DAJl"
      },
      "execution_count": null,
      "outputs": []
    },
    {
      "cell_type": "code",
      "source": [
        "#Cantidad de observaciones y expansión\n",
        "df_final.groupby([\"MES\"]).agg(TOT_PER = ('DIRECTORIO', 'count'), \n",
        "                              TOT_PER_EXP = ('FEX_C18', 'sum'))"
      ],
      "metadata": {
        "id": "kaIEl5uq0UIJ"
      },
      "execution_count": null,
      "outputs": []
    },
    {
      "cell_type": "markdown",
      "source": [
        "## **3. Ajuste de variables y filtro de observaciones.**\n",
        "\n",
        "Si bien se ha generado un filtro inicial de las variables es necesario realizar una serie de transformaciones para algunas de las variable, los primero que se realizará es el ajuste de los formatos de las variables, posteriormente se generaran variables a nivel de hogar variables compuestas (informalidad, años de educación) para posteriomente generar el filtro de observaciones y variables para tener la base final."
      ],
      "metadata": {
        "id": "eH5cME-NY1ER"
      }
    },
    {
      "cell_type": "markdown",
      "source": [
        "### 3.1 Ajuste de formatos. \n",
        "\n",
        "Los formatos se deben ajustar dado que durante la importación muchos de los valores que son int son float. Por este motivo se debe realizar este ajuste"
      ],
      "metadata": {
        "id": "uWDvTGi3aEmI"
      }
    },
    {
      "cell_type": "code",
      "source": [
        "# dtypes iniciales\n",
        "df_final.dtypes"
      ],
      "metadata": {
        "id": "-pe7AqVDaEGZ"
      },
      "execution_count": null,
      "outputs": []
    },
    {
      "cell_type": "code",
      "source": [
        "# Se genera el cambio de los dtypes\n",
        "df_final = df_final.convert_dtypes()\n",
        "df_final.dtypes"
      ],
      "metadata": {
        "id": "Nfml9jafYz9D"
      },
      "execution_count": null,
      "outputs": []
    },
    {
      "cell_type": "code",
      "source": [
        "df_final"
      ],
      "metadata": {
        "id": "-ES2UsGtVSG7"
      },
      "execution_count": null,
      "outputs": []
    },
    {
      "cell_type": "markdown",
      "source": [
        "### 3.2 Creación de variables a nivel de hogar.\n",
        "\n",
        "Algunas de las variables y caraccteristicas del hogar pueden estar correlacionadas con la informalidad, por este motivo se crearán las siguientes variables:\n",
        "\n",
        "* **NPER:** Cantidad de personas en el hogar\n",
        "* **NPER_5:** Cantidad de personas de 0 a 5 años\n",
        "* **NPER_17:** Cantidad de personas de 6 a 17 años\n",
        "* **NPER_60:** Cantidad de personas mayores de 60 años\n",
        "* **NPER_OCU:** Cantiad de personas ocuapdas"
      ],
      "metadata": {
        "id": "YGy6kVb_dsOC"
      }
    },
    {
      "cell_type": "code",
      "source": [
        "#Se generan las variables en una tabla df_hog\n",
        "\n",
        "#Menores de 5 años\n",
        "df_final[\"PER_5\"] = np.where(df_final[\"P6040\"] <= 5, 1, 0)\n",
        "#De 6 a 17 años\n",
        "df_final[\"PER_17\"] = np.where((df_final['P6040'] > 5) & (df_final['P6040'] <= 17) , 1, 0)\n",
        "#De meyores de 60 años\n",
        "df_final[\"PER_60\"] = np.where(df_final['P6040'] > 60  , 1, 0)\n",
        "#De meyores de 60 años\n",
        "df_final[\"PER_OCU\"] = np.where( pd.notnull(df_final[\"OCI\"]), 1, 0)\n",
        "\n",
        "\n",
        "#Se agregan a nivel de hogar\n",
        "df_hog = df_final.groupby([\"DIRECTORIO\",\"SECUENCIA_P\"]).agg(NPER = ('DIRECTORIO', 'count'), \n",
        "                                                 NPER_5 = ('PER_5', 'sum'),\n",
        "                                                 NPER_17 = ('PER_17', 'sum'),\n",
        "                                                 NPER_60 = ('PER_60', 'sum'),\n",
        "                                                 NPER_OCU = ('PER_OCU', 'sum'))\n",
        "\n",
        "#Se eliminan las variables creadas de la tabla df_final\n",
        "df_final = df_final.drop(['PER_5', 'PER_17', 'PER_60', 'PER_OCU'], axis=1)\n",
        "\n",
        "#Se realiza el pegue de la base de datos\n",
        "df_final = df_final.merge(df_hog, on=['DIRECTORIO','SECUENCIA_P'] , how = 'inner')"
      ],
      "metadata": {
        "id": "NyVZVSGpdrvm"
      },
      "execution_count": null,
      "outputs": []
    },
    {
      "cell_type": "markdown",
      "source": [
        "### 3.3 Filtro de observaciones\n",
        "\n",
        "La informalidad al ser un fenómeno presente únicamente en las personas que se encuentran ocupados al interior del mercado laboral, por tal motivo la cantidad de personas que serán parte del estudio se reduce, cabe resaltar que la GEIH encuesta a todas las personas de los hogares seleccionados, esto implica que hay personas ocupadas, no ocupadas e inactivas. \n",
        "\n",
        "Para evitar esto se realiza el filtro de las personas ocupadas."
      ],
      "metadata": {
        "id": "9ouUp-kFzWJO"
      }
    },
    {
      "cell_type": "code",
      "source": [
        "#Filtro de las personas ocupadas\n",
        "df_final = df_final[pd.notnull(df_final[\"OCI\"])]"
      ],
      "metadata": {
        "id": "91isURvqgqhm"
      },
      "execution_count": null,
      "outputs": []
    },
    {
      "cell_type": "code",
      "source": [
        "#Cantidad de ocupados y ocupados expandidos\n",
        "df_final.groupby([\"MES\"]).agg(TOT_OCU = ('DIRECTORIO', 'count'), \n",
        "                              TOT_OCU_EXP = ('FEX_C18', 'sum'))\n"
      ],
      "metadata": {
        "id": "O7N1vZYL12sd"
      },
      "execution_count": null,
      "outputs": []
    },
    {
      "cell_type": "markdown",
      "source": [
        "### 3.4 Generación de variables adicionales.\n",
        "\n",
        "Para cumplir con el objetivo del estudio es necesario agregar variables adicionales que no se encuentran en la base inicial, estas son:\n",
        "\n",
        "*  **FORMAL**: tendrá un valor de 1 si la persona es un ocupado formal y 0 si es informal\n",
        "*  **A_EDUC**: Cantidad de años de educación cursados y aprobados por la persona\n",
        "*  **FEX_A**: promedio ponderado de los factores de expansión para la generación de resultados anuales.\n",
        "* **FEX_T**: : promedio ponderado de los factores de expansión para la generación de resultados trimestrales.\n",
        "* **RAMA**: : Rama de actividad a dos dígitos.\n",
        "\n"
      ],
      "metadata": {
        "id": "Mg9_rXr31_UF"
      }
    },
    {
      "cell_type": "code",
      "source": [
        "#DEFINICION DE VARIABLES:\n",
        "vars_infor = [\"ANO\",\"OFICIO_C8\",\"P6430\",\"RAMA2D_R4\",\"P3046\",\"P3045S1\",\"P3069\",\"P6765\",\"P3065\",\"P3066\",\"P3067\",\"P3067S1\",\n",
        "              \"P3067S2\",\"P6775\",\"P3068\",\"P6100\",\"P6110\",\"P6920\",\"P6930\",\"P6940\",\"P6450\"]\n",
        "\n",
        "def informalidad(args):\n",
        "  ANO,OFICIO_C8,P6430,Rama2d_R4,P3046,P3045S1,P3069,P6765,P3065,P3066,P3067,P3067S1,P3067S2,P6775,P3068,P6100,P6110,P6920,P6930,P6940,P6450 = args\n",
        "\n",
        "  ANIOS = (ANO-1)\n",
        "  if isinstance(OFICIO_C8, str):   OFICIO_C8_2D = OFICIO_C8[:2]\n",
        "  if isinstance(OFICIO_C8, float): OFICIO_C8_2D = str(int(OFICIO_C8)).zfill(4)[:2]\n",
        "\n",
        "  if   P6430 == 3: FORMAL = np.nan\n",
        "  elif P6430 == 6: FORMAL = 0\n",
        "  elif Rama2d_R4 in (84,99): FORMAL=1 \n",
        "  elif P6430 == 8: FORMAL = 0\n",
        "\n",
        "  #ASALARIADOS:\n",
        "  elif P6430 == 2: FORMAL=1 \n",
        "  elif P6430 in (1,7) and P3045S1==1: FORMAL=1 \n",
        "  elif P6430 in (1,7) and P3045S1 in (2,9) and P3046 == 1: FORMAL=1\n",
        "  elif P6430 in (1,7) and P3045S1 in (2,9) and P3046 == 2: FORMAL=0\n",
        "  elif P6430 in (1,7) and P3045S1 in (2,9) and P3046 == 9 and (P3069 >= 4): FORMAL=1\n",
        "  elif P6430 in (1,7) and P3045S1 in (2,9) and P3046 == 9 and (P3069 <= 3): FORMAL=0\n",
        "\n",
        "  #INDEPENDIENTES:\n",
        "    #Sin NEGOCIO:\n",
        "  elif P6430 in (4,5) and P6765 !=7  and P3065 == 1 : FORMAL=1\n",
        "  elif P6430 in (4,5) and P6765 !=7  and P3065 in (2,9) and P3066 == 1: FORMAL=1\n",
        "  elif P6430 in (4,5) and P6765 !=7  and P3065 in (2,9) and P3066 == 2: FORMAL=0\n",
        "  elif P6430 == 5     and P6765 != 7 and P3065 in (2,9) and P3066 == 9 and P3069 >= 4: FORMAL=1\n",
        "  elif P6430 == 5     and P6765 != 7 and P3065 in (2,9) and P3066 == 9 and P3069 <= 3: FORMAL=0\n",
        "  elif P6430 == 4     and P6765 != 7 and P3065 in (2,9) and P3066 == 9 and (OFICIO_C8_2D >='00'  and OFICIO_C8_2D <='20'): FORMAL=1\n",
        "  elif P6430 == 4     and P6765 != 7 and P3065 in (2,9) and P3066 == 9 and (OFICIO_C8_2D >='21'): FORMAL=0\n",
        "\n",
        "    #CON NEGOCIO:\n",
        "      #RENOVARON REGISTRO:\n",
        "  elif P6430 in (4,5) and P6765 == 7 and P3067==1 and P3067S1==1 and P3067S2 >= ANIOS: FORMAL=1\n",
        "  elif P6430 in (4,5) and P6765 == 7 and P3067==1 and P3067S1==1 and P3067S2 < ANIOS: FORMAL=0\n",
        "  elif P6430 in (4,5) and P6765 == 7 and P3067==1 and P3067S1==2 and P6775 == 1: FORMAL=1\n",
        "  elif P6430 in (4,5) and P6765 == 7 and P3067==1 and P3067S1==2 and P6775 == 3 and (OFICIO_C8_2D >='00'  and OFICIO_C8_2D <='20') : FORMAL=1\n",
        "  elif P6430 in (4,5) and P6765 == 7 and P3067==1 and P3067S1==2 and P6775 == 3 and (OFICIO_C8_2D >='21') : FORMAL=0\n",
        "  elif P6430 in (4,5) and P6765 == 7 and P3067==1 and P3067S1==2 and P6775==2 : FORMAL=0\n",
        "  elif P6430 == 4     and P6765 == 7 and P3067==1 and P3067S1==2 and P6775==9 and (OFICIO_C8_2D >='00'  and OFICIO_C8_2D <='20') : FORMAL=1\n",
        "  elif P6430 == 4     and P6765 == 7 and P3067==1 and P3067S1==2 and P6775==9 and (OFICIO_C8_2D >='21') : FORMAL=0\n",
        "  elif P6430 == 5     and P6765 == 7 and P3067==1 and P3067S1==2 and P6775==9 and P3069 >= 4 : FORMAL=1\n",
        "  elif P6430 == 5     and P6765 == 7 and P3067==1 and P3067S1==2 and P6775==9 and P3069 <= 3 : FORMAL=0\n",
        "  \n",
        "      #NO RENOVARON REGISTRO:\n",
        "  elif P6430 in (4,5) and P6765 == 7 and P3067==2 and P6775 == 1 and P3068==1 : FORMAL=1\n",
        "  elif P6430 in (4,5) and P6765 == 7 and P3067==2 and P6775 == 1 and P3068==2 : FORMAL=0\n",
        "  elif P6430 in (4,5) and P6765 == 7 and P3067==2 and P6775 == 3 and (OFICIO_C8_2D >='00'  and OFICIO_C8_2D <='20') : FORMAL=1\n",
        "  elif P6430 in (4,5) and P6765 == 7 and P3067==2 and P6775 == 3 and (OFICIO_C8_2D >='21') : FORMAL=0\n",
        "  elif P6430 in (4,5) and P6765 == 7 and P3067==2 and P6775==1 and P3068==9 : FORMAL=0\n",
        "  elif P6430 in (4,5) and P6765 == 7 and P3067==2 and P6775==2: FORMAL=0\n",
        "  elif P6430 == 5     and P6765 == 7 and P3067==2 and P6775==9 and P3069 >= 4 : FORMAL=1\n",
        "  elif P6430 == 5     and P6765 == 7 and P3067==2 and P6775==9 and P3069 <= 3 : FORMAL=0\n",
        "  elif P6430 == 4     and P6765 == 7 and P3067==2 and P6775==9 and (OFICIO_C8_2D >='00'  and OFICIO_C8_2D <='20') : FORMAL=1\n",
        "  elif P6430 == 4     and P6765 == 7 and P3067==2 and P6775==9 and (OFICIO_C8_2D >='21') : FORMAL=0\n",
        "\n",
        "  #OCUPACION inFORMAL:\n",
        "  \n",
        "  #SALUD:\n",
        "  if   P6430 in (1,3,7) and P6100 in (1,2) and P6110 in (1,2,4): SALUD=1\n",
        "  elif P6430 in (1,3,7) and P6100==9 and P6450==2: SALUD=1\n",
        "  elif P6430 in (1,3,7) and P6110==9 and P6450==2: SALUD=1\n",
        "  elif P6430 in (1,3,7): SALUD=0\n",
        "\n",
        "  # #PENSIÓN:\n",
        "  if   P6430 in (1,3,7) and P6920==3: PENSION=1\n",
        "  elif P6430 in (1,3,7) and P6920==1 and P6930 in (1,2,3) and P6940 in (1,3): PENSION=1\n",
        "  elif P6430 in (1,3,7): PENSION=0\n",
        "\n",
        "  #OCUPACION INFORMAL:\n",
        "  if   P6430 == 2: EI=1\n",
        "  elif P6430 in (6,8): EI=0\n",
        "  elif P6430 in (4,5): EI=FORMAL\n",
        "  elif P6430 in (1,3,7) and SALUD==1 and PENSION==1: EI=1\n",
        "  elif P6430 in (1,3,7): EI=0\n",
        "\n",
        "  return EI\n",
        "\n",
        "def educacion(args):\n",
        "  P3042,P3042S1 = args\n",
        "  \n",
        "  if P3042 in (7,8,9,10,11,12,13): P3042S1_ = P3042S1/2\n",
        "  else:                            P3042S1_ = P3042S1\n",
        "  \n",
        "  #AÑOS EDUCACION:\n",
        "  if   (P3042 == 4 and P3042S1_ == 0): a_educ=5\n",
        "  elif (P3042 == 4 and P3042S1_ != 0): a_educ=5+P3042S1_\n",
        "  elif P3042 in (1,2,3):               a_educ=P3042S1_\n",
        "  elif P3042 in (5,6):                 a_educ=9+P3042S1_\n",
        "  elif P3042 in (7,8,9,10):            a_educ=11+P3042S1_\n",
        "  elif P3042 in (11,12):               a_educ=16+P3042S1_\n",
        "  elif P3042 == 13:                    a_educ=18+P3042S1_\n",
        "  elif P3042 == 99:                    a_educ = np.nan\n",
        "  else:                                a_educ = np.nan\n",
        "  return a_educ\n",
        "\n",
        "def rama2d(rama2d_R4):\n",
        "\n",
        "  if   rama2d_R4 in (1,2,3) : Rama=1\n",
        "  elif rama2d_R4 in (5,6,7,8,9) : Rama=2\n",
        "  elif rama2d_R4 in (10,11,12,13,14,15,16,17,18,19,20,21,22,23,24,25,26,27,28,29,30,31,32,33) : Rama=3\n",
        "  elif rama2d_R4 in (35,36,37,38,39) : Rama=4\n",
        "  elif rama2d_R4 in (41,42,43) : Rama=5\n",
        "  elif rama2d_R4 in (45,46,47) : Rama=6\n",
        "  elif rama2d_R4 in (55,56) : Rama=7\n",
        "  elif rama2d_R4 in (49,50,51,52,53) : Rama=8\n",
        "  elif rama2d_R4 in (58,59,60,61,62,63) : Rama=9\n",
        "  elif rama2d_R4 in (64,65,66) : Rama=10\n",
        "  elif rama2d_R4 == 68 : Rama=11\n",
        "  elif rama2d_R4 in (69,70,71,72,73,74,75,77,78,79,80,81,82) : Rama=12\n",
        "  elif rama2d_R4 in (84,85,86,87,88) : Rama=13\n",
        "  elif rama2d_R4 in (90,91,92,93,94,95,96,97,98,99) : Rama=14\n",
        "  elif rama2d_R4 == 00 : Rama=15\n",
        "  return Rama\n",
        "\n",
        "def dominios(args):\n",
        "  ciudades, clase = args\n",
        "  if   clase in ('2',2) and np.isnan(ciudades): dominio = '100'\n",
        "  elif clase in (1,'1') and np.isnan(ciudades): dominio = '101'\n",
        "  else: dominio = str(int(ciudades)).zfill(2)\n",
        "  return dominio\n",
        "\n",
        "def twoascero(var):\n",
        "  return (var==1)*1\n",
        "\n",
        "def edad2(p6040):\n",
        "  return p6040**2\n",
        "\n",
        "def educacion2(a_educ):\n",
        "  return a_educ**2\n",
        "\n",
        "def fex_a(FEX_C18):\n",
        "  return FEX_C18/12\n",
        "\n",
        "def fex_t(FEX_C18):\n",
        "  return FEX_C18/3"
      ],
      "metadata": {
        "id": "v5BUu0hz5bsr"
      },
      "execution_count": null,
      "outputs": []
    },
    {
      "cell_type": "code",
      "source": [
        "#ELIMINANDO COLUMNAS DUPLICADAS\n",
        "df_final = df_final.loc[:,~df_final.columns.duplicated()]"
      ],
      "metadata": {
        "id": "DGIC5RC4Vsw5"
      },
      "execution_count": null,
      "outputs": []
    },
    {
      "cell_type": "code",
      "source": [
        "#DEFINIENDO FLOAT DE VARIABLES:\n",
        "df_final['P6100']     = df_final['P6100'].astype(np.float32)\n",
        "df_final['P6110']     = df_final['P6110'].astype(np.float32)\n",
        "df_final['RAMA2D_R4'] = df_final['RAMA2D_R4'].astype(np.float32)\n",
        "df_final['P3042']     = df_final['P3042'].astype(np.float32)\n",
        "df_final['P3042S1']   = df_final['P3042S1'].astype(np.float32)\n",
        "df_final['ciudades']  = df_final['AREA'].replace('',np.nan).astype(np.float32)"
      ],
      "metadata": {
        "id": "MGk2AwViL7lC"
      },
      "execution_count": null,
      "outputs": []
    },
    {
      "cell_type": "code",
      "source": [
        "#VARIABLES:\n",
        "df_final[\"ANO\"]      = 2022\n",
        "df_final[\"const\"]    = 1\n",
        "df_final[\"fex_a\"]    = df_final[\"FEX_C18\"].apply(fex_a)\n",
        "df_final[\"fex_t\"]    = df_final[\"FEX_C18\"].apply(fex_t)\n",
        "df_final[\"rama\"]     = df_final[\"RAMA2D_R4\"].apply(rama2d)\n",
        "df_final[\"infor\"]    = df_final[vars_infor].apply(informalidad, axis=1)\n",
        "df_final[\"a_educ\"]   = df_final[['P3042','P3042S1']].apply(educacion, axis=1)\n",
        "df_final[\"p6040^2\"]  = df_final[\"P6040\"].apply(edad2)\n",
        "df_final[\"dp3271\"]   = df_final[\"P3271\"].apply(twoascero)\n",
        "df_final[\"a_educ^2\"] = df_final[\"a_educ\"].apply(educacion2)\n",
        "df_final[\"dominio\"]  = df_final[[\"ciudades\",\"CLASE\"]].apply(dominios, axis=1)"
      ],
      "metadata": {
        "id": "fT10PIttNzzS"
      },
      "execution_count": null,
      "outputs": []
    },
    {
      "cell_type": "markdown",
      "source": [
        "### 3.5 Homogenización del nombre de las variables\n",
        "\n",
        "Una vez se han realizado la generación de las variables se homogeniza todas las variables a minuscula para un uso más sencillo."
      ],
      "metadata": {
        "id": "W_9KK5fSEynl"
      }
    },
    {
      "cell_type": "code",
      "source": [
        "df_final.columns = df_final.columns.str.lower()"
      ],
      "metadata": {
        "id": "fkMEMGQuEyQb"
      },
      "execution_count": null,
      "outputs": []
    },
    {
      "cell_type": "markdown",
      "source": [
        "### 3.6 Filtro de variables finales a utilizar. \n",
        "\n",
        "Una vex se ha generado las variables compuestas se realizan los filtros para tener un dataframe únicamente con las variables importantes para el análisis de la información, estas son:\n",
        "\n",
        "\n",
        "\n",
        "*   Variables llave (**directorio**, **secuencia_p**, **orden**)\n",
        "*   **mes**: Mes de la encuesta\n",
        "*   **clase**: Variable que determina si la persona encuestada vive en la cabecera o en centro poblado o rural disperso del municipio.\n",
        "*   **area**: Identifica si la persona vive en alguna de las 23 ciudades principales o sus area metropolitanas.\n",
        "*  **dpto**: Deparamento en el cual vive la persona encuestada\n",
        "*  **p3271**: Sexo al nacer\n",
        "*  **p6040**: Edad\n",
        "*  **p6050**: Parentesco con el jefe del hogar\n",
        "*  **p3069**: Cantidad de empleados en la empresa donde trabaja\n",
        "*  **p3373**: Lugar de nacimiento\n",
        "*  **p3382**: Dondé vivia hace 5 años\n",
        "*  **p3384**: Dónde vivía hace 12 meses\n",
        "*  **fex_c18**: Factor de expansión mensual\n",
        "*  **nper**: Cantidad de personas en el hogar\n",
        "*  **nper_5**: Cantidad de personas de 5 años o menos en el hogar\n",
        "*  **nper_17**: Cantidad de perosnas de 17 años o menos en el hogar\n",
        "*  **nper_60**: Cantidad de personas mayores de 60 años\n",
        "*  **nper_OCU**: Cantidad de personas ocupadas al interior del hogar\n",
        "*  **fex_a**: Factor de expansión anua\n",
        "*  **fex_t**: Factor de expansión trimestral\n",
        "*  **rama**: Rama de actividad en grandes grupos\n",
        "*  **infor**: Informalidad\n",
        "*  **a_educ**: Años de educación \n",
        "\n"
      ],
      "metadata": {
        "id": "zh_vFE9G-98J"
      }
    },
    {
      "cell_type": "code",
      "source": [
        "df_final = df_final[['directorio', 'secuencia_p', 'orden','ano', 'mes', 'clase', 'area', 'dpto','p3271',\n",
        " 'p6040', 'p6050', 'p6080','p3069','p3373','p3382','p3384','fex_c18','nper','nper_5',\n",
        " 'nper_17','nper_60','nper_ocu','fex_a','fex_t','rama','infor','a_educ','dominio','dp3271']]"
      ],
      "metadata": {
        "id": "3wd5ymge-9br"
      },
      "execution_count": null,
      "outputs": []
    },
    {
      "cell_type": "markdown",
      "source": [
        "### 3.7 Ajuste final de varibles\n",
        "\n",
        "Al realizar los ajustes en el punto 3.1 hubo algunas variables que fueron revisadas posteriormente y tienen valores en diversos formatos. a continuación se realizará el ajuste de cada una de ellas. "
      ],
      "metadata": {
        "id": "rybzz2gbIbL-"
      }
    },
    {
      "cell_type": "code",
      "source": [
        "#Variable clase\n",
        "df_final['clase'] = df_final['clase'].astype(\"int\")\n",
        "\n",
        "# Variable area\n",
        "df_final['area'] = df_final['area'].replace(\"\", None)\n",
        "df_final['area'] = df_final['area'].astype(\"str\")\n",
        "\n",
        "def mpio_divi(mpio):\n",
        "  if (mpio == '5') or (mpio == '8') :\n",
        "    return '0' + mpio\n",
        "  else:\n",
        "    return mpio\n",
        "\n",
        "df_final['area'] = df_final['area'].apply(mpio_divi)\n",
        "\n",
        "#Variable dpto\n",
        "df_final['dpto'] = df_final['dpto'].astype(\"str\")\n",
        "df_final['dpto'] = df_final['dpto'].apply(mpio_divi)\n"
      ],
      "metadata": {
        "id": "-XkGDzc1Iapw"
      },
      "execution_count": 17,
      "outputs": []
    },
    {
      "cell_type": "code",
      "source": [
        "warnings.filterwarnings(\"default\") #activas de nuevo los warnings"
      ],
      "metadata": {
        "id": "NulBomBlWLSc"
      },
      "execution_count": 18,
      "outputs": []
    },
    {
      "cell_type": "markdown",
      "source": [
        "## **4. Estadísticas descriptivas**\n",
        "\n",
        "A continuación se presentaran algunas estáidisticas descriptivas para cada una de las variables seleccionadas, también se realizarán visualizaciónes de los datos y como se correlacionan con la variable de informalidad"
      ],
      "metadata": {
        "id": "uwoC8ASm9zx6"
      }
    },
    {
      "cell_type": "markdown",
      "source": [
        "Antes de realizar las estadísticas generales se establecerá los formatos para las gráficas iniciando por la fuente y el color"
      ],
      "metadata": {
        "id": "0sR9HLlaFzch"
      }
    },
    {
      "cell_type": "code",
      "source": [
        "#Fuente Chonburi que está definido para la presentación \n",
        "!wget https://github.com/caavila96/Informalidad_GEIH_2022/raw/a3355d499a53ef109cd3853ff2984b56e3157bd7/FONTS/Chonburi-Regular.ttf\n",
        "fuente = '/content/Chonburi-Regular.ttf' \n",
        "\n",
        "#Se registra la fuente \n",
        "fm.fontManager.addfont(fuente)\n",
        "chonburi = fm.FontProperties(fname=fuente)\n",
        "\n",
        "# Se establece de forma global\n",
        "matplotlib.rcParams['font.family'] = chonburi.get_name()\n"
      ],
      "metadata": {
        "colab": {
          "base_uri": "https://localhost:8080/"
        },
        "id": "TU03thn0FzMR",
        "outputId": "ba59a371-f87f-40e2-b017-91e3adf6f639"
      },
      "execution_count": 19,
      "outputs": [
        {
          "output_type": "stream",
          "name": "stderr",
          "text": [
            "/usr/local/lib/python3.10/dist-packages/ipykernel/ipkernel.py:283: DeprecationWarning: `should_run_async` will not call `transform_cell` automatically in the future. Please pass the result to `transformed_cell` argument and any exception that happen during thetransform in `preprocessing_exc_tuple` in IPython 7.17 and above.\n",
            "  and should_run_async(code)\n"
          ]
        },
        {
          "output_type": "stream",
          "name": "stdout",
          "text": [
            "--2023-05-25 01:00:13--  https://github.com/caavila96/Informalidad_GEIH_2022/raw/a3355d499a53ef109cd3853ff2984b56e3157bd7/FONTS/Chonburi-Regular.ttf\n",
            "Resolving github.com (github.com)... 140.82.112.4\n",
            "Connecting to github.com (github.com)|140.82.112.4|:443... connected.\n",
            "HTTP request sent, awaiting response... 302 Found\n",
            "Location: https://raw.githubusercontent.com/caavila96/Informalidad_GEIH_2022/a3355d499a53ef109cd3853ff2984b56e3157bd7/FONTS/Chonburi-Regular.ttf [following]\n",
            "--2023-05-25 01:00:13--  https://raw.githubusercontent.com/caavila96/Informalidad_GEIH_2022/a3355d499a53ef109cd3853ff2984b56e3157bd7/FONTS/Chonburi-Regular.ttf\n",
            "Resolving raw.githubusercontent.com (raw.githubusercontent.com)... 185.199.108.133, 185.199.109.133, 185.199.110.133, ...\n",
            "Connecting to raw.githubusercontent.com (raw.githubusercontent.com)|185.199.108.133|:443... connected.\n",
            "HTTP request sent, awaiting response... 200 OK\n",
            "Length: 165956 (162K) [application/octet-stream]\n",
            "Saving to: ‘Chonburi-Regular.ttf’\n",
            "\n",
            "Chonburi-Regular.tt 100%[===================>] 162.07K  --.-KB/s    in 0.02s   \n",
            "\n",
            "2023-05-25 01:00:14 (6.73 MB/s) - ‘Chonburi-Regular.ttf’ saved [165956/165956]\n",
            "\n"
          ]
        },
        {
          "output_type": "stream",
          "name": "stderr",
          "text": [
            "<frozen importlib._bootstrap>:914: ImportWarning: APICoreClientInfoImportHook.find_spec() not found; falling back to find_module()\n",
            "<frozen importlib._bootstrap>:914: ImportWarning: _PyDriveImportHook.find_spec() not found; falling back to find_module()\n",
            "<frozen importlib._bootstrap>:914: ImportWarning: _OpenCVImportHook.find_spec() not found; falling back to find_module()\n",
            "<frozen importlib._bootstrap>:914: ImportWarning: _BokehImportHook.find_spec() not found; falling back to find_module()\n",
            "<frozen importlib._bootstrap>:914: ImportWarning: _AltairImportHook.find_spec() not found; falling back to find_module()\n"
          ]
        }
      ]
    },
    {
      "cell_type": "code",
      "source": [
        "#El color del fondo de los gráficos es definido\n",
        "plt.rcParams['text.color'] = '#00111D'\n",
        "plt.rcParams['figure.facecolor'] = '#D9E0EB'\n",
        "plt.rcParams['axes.facecolor'] = '#D9E0EB'"
      ],
      "metadata": {
        "id": "45V0lADIHeuZ"
      },
      "execution_count": 20,
      "outputs": []
    },
    {
      "cell_type": "code",
      "source": [
        "# Nota \n",
        "note = \"Fuente: GEIH - 2022. Elaboración propia\""
      ],
      "metadata": {
        "id": "PIa5A6AlMEhp"
      },
      "execution_count": 21,
      "outputs": []
    },
    {
      "cell_type": "markdown",
      "source": [
        "### 4.1 Informalidad\n",
        "\n",
        "La primera variable que se analizará es la variable ojeto de estudio, de igual forma se comprarán con los resultados publicados por el DANE en su página  [web](https://https://www.dane.gov.co/index.php/estadisticas-por-tema/salud/informalidad-y-seguridad-social/empleo-informal-y-seguridad-social-historicos) para poder tener certeza que todos los cálculos fueron efectivamente realizados.  "
      ],
      "metadata": {
        "id": "9vEQP_4eWpTf"
      }
    },
    {
      "cell_type": "markdown",
      "source": [
        "#### 4.1.1 Comparación resultados DANE"
      ],
      "metadata": {
        "id": "fib93hhqKSvu"
      }
    },
    {
      "cell_type": "code",
      "source": [
        "''' \n",
        "El DANE presenta la información de informalidad de forma trimestre corrido, por este motivo se agrupan los resultados por trimestrre corrido usando el factor de expansión\n",
        "trimestral. \n",
        "\n",
        "Posterior a esto se agregan los resultados DANE para tener una comparabilidad\n",
        "\n",
        "'''\n",
        "#Lista de trimestres\n",
        "trimestre_movil = [[\"01\", \"02\", \"03\"], [\"02\", \"03\", \"04\"], [\"03\", \"04\", \"05\"], [\"04\", \"05\", \"06\"], [\"05\", \"06\", \"07\"], [\"06\", \"07\", \"08\"], [\"07\", \"08\", \"09\"], [\"08\", \"09\", \"10\"], [\"09\", \"10\", \"11\"], [\"10\", \"11\", \"12\"]]\n",
        "\n",
        "trim_movi = pd.DataFrame()\n",
        "\n",
        "#Calculo trimestre corrido\n",
        "for trimestre in trimestre_movil:\n",
        "    resultado = df_final[(df_final['mes'].isin(trimestre)) ].groupby('ano').apply(lambda x: (1-((x['infor'] * x['fex_t']).sum() / x['fex_t'].sum()))*100 )\n",
        "    trim_movi = pd.concat([trim_movi, resultado], axis=1)\n",
        "\n",
        "trim_movi.columns = ['Ene - mar ', 'Feb - abr ', 'Mar - may', 'Abr - Jun', 'May - jul', 'Jun-ago', 'Jul-sep', 'Ago-oct', 'Sep - nov', 'Oct -dic']\n",
        "\n",
        "trim_movi.loc['2022_DANE'] = [58.4753,\t58.8231,\t58.0660,\t57.7784,\t57.8326,\t57.9312,\t58.0657,\t57.8810,\t58.0242,\t57.6005,]\n",
        "\n",
        "\n",
        "#generación de linea que compare los dos resultados \n",
        "\n",
        "# tamaño\n",
        "fig, ax = plt.subplots(figsize=(10, 5))\n",
        "\n",
        "#transposición de la tabla \n",
        "trim_movi = trim_movi.T\n",
        "\n",
        "# Linea de resultado DANE\n",
        "trim_movi['2022_DANE'].plot(kind='line', marker='o',markevery=0.8, label='Publicación DANE', ax=ax, color = \"#4E6994\",linewidth=4, markersize=10)\n",
        "\n",
        "# Línea de resultado propio\n",
        "trim_movi[2022].plot(kind='line', linestyle=':', marker='o', label='Calculo propio', ax=ax, color = \"#87CDFF\")\n",
        "\n",
        "\n",
        "# labels\n",
        "plt.title('Proporción informalidad trimestre \\nmovil 2022',fontsize = 15)\n",
        "plt.xlabel('Trimestre',fontsize = 10)\n",
        "plt.ylabel('Porcentaje',fontsize = 10)\n",
        "\n",
        "# Puntos de datos primera línea\n",
        "for i, value in enumerate(trim_movi[2022]):\n",
        "    ax.annotate(f'{value:.1f}%', (i, value), textcoords=\"offset points\", xytext=(0, 15), ha='center')\n",
        "\n",
        "ax.tick_params(axis='x', labelsize=8)\n",
        "ax.tick_params(axis='y', labelsize=8)\n",
        "\n",
        "# Quitar las linea vertical superior i dereha horizontal \n",
        "sns.despine()\n",
        "\n",
        "# Display the legend\n",
        "ax.legend(fontsize=8)\n",
        "\n",
        "#nota\n",
        "ax.text(-0.1, -0.1, note, transform=ax.transAxes, va='center', fontsize=6)\n",
        "\n",
        "plt.show()\n"
      ],
      "metadata": {
        "colab": {
          "base_uri": "https://localhost:8080/",
          "height": 513
        },
        "id": "uGecqQEMdF8K",
        "outputId": "901f905b-3899-4c5e-d44c-4ed26eb7b553"
      },
      "execution_count": null,
      "outputs": [
        {
          "output_type": "display_data",
          "data": {
            "text/plain": [
              "<Figure size 1000x500 with 1 Axes>"
            ],
            "image/png": "[encoded data removed]"
          },
          "metadata": {}
        }
      ]
    },
    {
      "cell_type": "code",
      "source": [
        "#calculo propoción de informalidad 2022\n",
        "plot2 = df_final[[\"infor\",\"fex_a\"]].groupby(\"infor\").sum('fex_a')\n",
        "plot2 = plot2['fex_a'] / sum(plot2['fex_a'])\n",
        "\n",
        "#Labels\n",
        "label = ['Ocupados formales', 'Ocupados informales']\n",
        "\n",
        "# gráfica\n",
        "fig, ax = plt.subplots()\n",
        "patches, text, autotext =  ax.pie(plot2,  labels=label, autopct='%1.1f%%', startangle=90, colors =  ['#37475C', '#A2B5CC'])\n",
        "\n",
        "# ratio\n",
        "ax.axis('equal')\n",
        "\n",
        "# titulo\n",
        "ax.set_title('Proporción de informalidad \\n2022', fontsize = 20)\n",
        "\n",
        "#tamaño porcentajes\n",
        "for autotext in autotext:\n",
        "    autotext.set_fontsize(15)\n",
        "\n",
        "\n",
        "plt.show()"
      ],
      "metadata": {
        "colab": {
          "base_uri": "https://localhost:8080/",
          "height": 467
        },
        "id": "p_uIrIaOozmf",
        "outputId": "85d679da-235d-421e-eeb7-bb169c544038"
      },
      "execution_count": null,
      "outputs": [
        {
          "output_type": "display_data",
          "data": {
            "text/plain": [
              "<Figure size 640x480 with 1 Axes>"
            ],
            "image/png": "[encoded data removed]"
          },
          "metadata": {}
        }
      ]
    },
    {
      "cell_type": "code",
      "source": [
        "plot3 = grouped_data = df_final[[\"p6040\",\"infor\",\"fex_a\"]].groupby([\"p6040\",\"infor\"]).sum('fex_a').reset_index()\n",
        "plot3 = plot3.pivot(index='p6040', columns='infor', values='fex_a')\n",
        "\n",
        "\n",
        "\n",
        "# tamaño\n",
        "fig, ax = plt.subplots(figsize=(15, 5))\n",
        "\n",
        "\n",
        "\n",
        "\n",
        "colores =  ['#37475C', '#A2B5CC']\n",
        "\n",
        "\n",
        "\n",
        "# Plot each stack with the specified colors\n",
        "for i, col in enumerate(plot3.columns):\n",
        "    label = \"Ocupados \\nformales\" if i == 0 else \"Ocupados \\ninformales\"\n",
        "    plt.bar(x, plot3[col], bottom=plot3.iloc[:, :i].sum(axis=1), color=colores[i % len(colores)], label=label)\n",
        "\n",
        "\n",
        "# labels\n",
        "ax.set_xlabel('Edad')\n",
        "ax.set_ylabel('Ocupados \\n(miles)')\n",
        "ax.set_title('Histograma de edad según informalidad')\n",
        "\n",
        "\n",
        "# Definir valores de x\n",
        "x = plot3.index\n",
        "ax.set_xlim(min(x), max(x))\n",
        "\n",
        "#Valores de y\n",
        "ax.set_yticklabels([f'{int(y/1000):,}' for y in ax.get_yticks()])\n",
        "\n",
        "#Tamaño de letra\n",
        "ax.tick_params(axis='x', labelsize=8)\n",
        "ax.tick_params(axis='y', labelsize=8)\n",
        "\n",
        "# Quitar las linea vertical superior i dereha horizontal \n",
        "sns.despine()\n",
        "\n",
        "# Show the legend\n",
        "ax.legend(loc='upper right')\n",
        "\n",
        "# Show the plot\n",
        "plt.show()"
      ],
      "metadata": {
        "colab": {
          "base_uri": "https://localhost:8080/",
          "height": 571
        },
        "id": "4_ubgMSjbz34",
        "outputId": "46200cc3-3fa6-4587-bd60-1c438f737eda"
      },
      "execution_count": 74,
      "outputs": [
        {
          "output_type": "stream",
          "name": "stderr",
          "text": [
            "/usr/local/lib/python3.10/dist-packages/ipykernel/ipkernel.py:283: DeprecationWarning: `should_run_async` will not call `transform_cell` automatically in the future. Please pass the result to `transformed_cell` argument and any exception that happen during thetransform in `preprocessing_exc_tuple` in IPython 7.17 and above.\n",
            "  and should_run_async(code)\n",
            "<ipython-input-74-76089e7346e1>:33: UserWarning: FixedFormatter should only be used together with FixedLocator\n",
            "  ax.set_yticklabels([f'{int(y/1000):,}' for y in ax.get_yticks()])\n"
          ]
        },
        {
          "output_type": "display_data",
          "data": {
            "text/plain": [
              "<Figure size 1500x500 with 1 Axes>"
            ],
            "image/png": "[encoded data removed]"
          },
          "metadata": {}
        }
      ]
    },
    {
      "cell_type": "code",
      "source": [
        "# Select the variables for correlation\n",
        "variables = ['infor', 'p6040', 'nper', 'nper_ocu', 'dp3271', 'a_educ', 'a_educ', 'dominio']\n",
        "correlation_data = df_final[variables]\n",
        "\n",
        "# Convert 'dominio' to categorical data\n",
        "correlation_data['dominio'] = correlation_data['dominio'].astype('category')\n",
        "\n",
        "# Create the matrix scatterplot\n",
        "sns.set(style='ticks')\n",
        "sns.pairplot(correlation_data, hue='dominio')\n",
        "\n",
        "# Set the title of the plot\n",
        "plt.suptitle('Matrix Scatterplot')\n",
        "\n",
        "# Show the plot\n",
        "plt.show()"
      ],
      "metadata": {
        "colab": {
          "base_uri": "https://localhost:8080/",
          "height": 380
        },
        "id": "DxkEmkdei3FB",
        "outputId": "eceecd9a-ec07-476c-fef0-e0e286e52226"
      },
      "execution_count": 80,
      "outputs": [
        {
          "output_type": "error",
          "ename": "KeyError",
          "evalue": "ignored",
          "traceback": [
            "\u001b[0;31m---------------------------------------------------------------------------\u001b[0m",
            "\u001b[0;31mKeyError\u001b[0m                                  Traceback (most recent call last)",
            "\u001b[0;32m<ipython-input-80-9f1fbbb590a0>\u001b[0m in \u001b[0;36m<cell line: 3>\u001b[0;34m()\u001b[0m\n\u001b[1;32m      1\u001b[0m \u001b[0;31m# Select the variables for correlation\u001b[0m\u001b[0;34m\u001b[0m\u001b[0;34m\u001b[0m\u001b[0m\n\u001b[1;32m      2\u001b[0m \u001b[0mvariables\u001b[0m \u001b[0;34m=\u001b[0m \u001b[0;34m[\u001b[0m\u001b[0;34m'infor'\u001b[0m\u001b[0;34m,\u001b[0m \u001b[0;34m'p6040'\u001b[0m\u001b[0;34m,\u001b[0m \u001b[0;34m'nper'\u001b[0m\u001b[0;34m,\u001b[0m \u001b[0;34m'nper_ocu'\u001b[0m\u001b[0;34m,\u001b[0m \u001b[0;34m'dp3271'\u001b[0m\u001b[0;34m,\u001b[0m \u001b[0;34m'a_educ'\u001b[0m\u001b[0;34m,\u001b[0m \u001b[0;34m'a_educ'\u001b[0m\u001b[0;34m,\u001b[0m \u001b[0;34m'dominio'\u001b[0m\u001b[0;34m]\u001b[0m\u001b[0;34m\u001b[0m\u001b[0;34m\u001b[0m\u001b[0m\n\u001b[0;32m----> 3\u001b[0;31m \u001b[0mcorrelation_data\u001b[0m \u001b[0;34m=\u001b[0m \u001b[0mdf_final\u001b[0m\u001b[0;34m[\u001b[0m\u001b[0mvariables\u001b[0m\u001b[0;34m]\u001b[0m\u001b[0;34m\u001b[0m\u001b[0;34m\u001b[0m\u001b[0m\n\u001b[0m\u001b[1;32m      4\u001b[0m \u001b[0;34m\u001b[0m\u001b[0m\n\u001b[1;32m      5\u001b[0m \u001b[0;31m# Convert 'dominio' to categorical data\u001b[0m\u001b[0;34m\u001b[0m\u001b[0;34m\u001b[0m\u001b[0m\n",
            "\u001b[0;32m/usr/local/lib/python3.10/dist-packages/pandas/core/frame.py\u001b[0m in \u001b[0;36m__getitem__\u001b[0;34m(self, key)\u001b[0m\n\u001b[1;32m   3811\u001b[0m             \u001b[0;32mif\u001b[0m \u001b[0mis_iterator\u001b[0m\u001b[0;34m(\u001b[0m\u001b[0mkey\u001b[0m\u001b[0;34m)\u001b[0m\u001b[0;34m:\u001b[0m\u001b[0;34m\u001b[0m\u001b[0;34m\u001b[0m\u001b[0m\n\u001b[1;32m   3812\u001b[0m                 \u001b[0mkey\u001b[0m \u001b[0;34m=\u001b[0m \u001b[0mlist\u001b[0m\u001b[0;34m(\u001b[0m\u001b[0mkey\u001b[0m\u001b[0;34m)\u001b[0m\u001b[0;34m\u001b[0m\u001b[0;34m\u001b[0m\u001b[0m\n\u001b[0;32m-> 3813\u001b[0;31m             \u001b[0mindexer\u001b[0m \u001b[0;34m=\u001b[0m \u001b[0mself\u001b[0m\u001b[0;34m.\u001b[0m\u001b[0mcolumns\u001b[0m\u001b[0;34m.\u001b[0m\u001b[0m_get_indexer_strict\u001b[0m\u001b[0;34m(\u001b[0m\u001b[0mkey\u001b[0m\u001b[0;34m,\u001b[0m \u001b[0;34m\"columns\"\u001b[0m\u001b[0;34m)\u001b[0m\u001b[0;34m[\u001b[0m\u001b[0;36m1\u001b[0m\u001b[0;34m]\u001b[0m\u001b[0;34m\u001b[0m\u001b[0;34m\u001b[0m\u001b[0m\n\u001b[0m\u001b[1;32m   3814\u001b[0m \u001b[0;34m\u001b[0m\u001b[0m\n\u001b[1;32m   3815\u001b[0m         \u001b[0;31m# take() does not accept boolean indexers\u001b[0m\u001b[0;34m\u001b[0m\u001b[0;34m\u001b[0m\u001b[0m\n",
            "\u001b[0;32m/usr/local/lib/python3.10/dist-packages/pandas/core/indexes/base.py\u001b[0m in \u001b[0;36m_get_indexer_strict\u001b[0;34m(self, key, axis_name)\u001b[0m\n\u001b[1;32m   6068\u001b[0m             \u001b[0mkeyarr\u001b[0m\u001b[0;34m,\u001b[0m \u001b[0mindexer\u001b[0m\u001b[0;34m,\u001b[0m \u001b[0mnew_indexer\u001b[0m \u001b[0;34m=\u001b[0m \u001b[0mself\u001b[0m\u001b[0;34m.\u001b[0m\u001b[0m_reindex_non_unique\u001b[0m\u001b[0;34m(\u001b[0m\u001b[0mkeyarr\u001b[0m\u001b[0;34m)\u001b[0m\u001b[0;34m\u001b[0m\u001b[0;34m\u001b[0m\u001b[0m\n\u001b[1;32m   6069\u001b[0m \u001b[0;34m\u001b[0m\u001b[0m\n\u001b[0;32m-> 6070\u001b[0;31m         \u001b[0mself\u001b[0m\u001b[0;34m.\u001b[0m\u001b[0m_raise_if_missing\u001b[0m\u001b[0;34m(\u001b[0m\u001b[0mkeyarr\u001b[0m\u001b[0;34m,\u001b[0m \u001b[0mindexer\u001b[0m\u001b[0;34m,\u001b[0m \u001b[0maxis_name\u001b[0m\u001b[0;34m)\u001b[0m\u001b[0;34m\u001b[0m\u001b[0;34m\u001b[0m\u001b[0m\n\u001b[0m\u001b[1;32m   6071\u001b[0m \u001b[0;34m\u001b[0m\u001b[0m\n\u001b[1;32m   6072\u001b[0m         \u001b[0mkeyarr\u001b[0m \u001b[0;34m=\u001b[0m \u001b[0mself\u001b[0m\u001b[0;34m.\u001b[0m\u001b[0mtake\u001b[0m\u001b[0;34m(\u001b[0m\u001b[0mindexer\u001b[0m\u001b[0;34m)\u001b[0m\u001b[0;34m\u001b[0m\u001b[0;34m\u001b[0m\u001b[0m\n",
            "\u001b[0;32m/usr/local/lib/python3.10/dist-packages/pandas/core/indexes/base.py\u001b[0m in \u001b[0;36m_raise_if_missing\u001b[0;34m(self, key, indexer, axis_name)\u001b[0m\n\u001b[1;32m   6131\u001b[0m \u001b[0;34m\u001b[0m\u001b[0m\n\u001b[1;32m   6132\u001b[0m             \u001b[0mnot_found\u001b[0m \u001b[0;34m=\u001b[0m \u001b[0mlist\u001b[0m\u001b[0;34m(\u001b[0m\u001b[0mensure_index\u001b[0m\u001b[0;34m(\u001b[0m\u001b[0mkey\u001b[0m\u001b[0;34m)\u001b[0m\u001b[0;34m[\u001b[0m\u001b[0mmissing_mask\u001b[0m\u001b[0;34m.\u001b[0m\u001b[0mnonzero\u001b[0m\u001b[0;34m(\u001b[0m\u001b[0;34m)\u001b[0m\u001b[0;34m[\u001b[0m\u001b[0;36m0\u001b[0m\u001b[0;34m]\u001b[0m\u001b[0;34m]\u001b[0m\u001b[0;34m.\u001b[0m\u001b[0munique\u001b[0m\u001b[0;34m(\u001b[0m\u001b[0;34m)\u001b[0m\u001b[0;34m)\u001b[0m\u001b[0;34m\u001b[0m\u001b[0;34m\u001b[0m\u001b[0m\n\u001b[0;32m-> 6133\u001b[0;31m             \u001b[0;32mraise\u001b[0m \u001b[0mKeyError\u001b[0m\u001b[0;34m(\u001b[0m\u001b[0;34mf\"{not_found} not in index\"\u001b[0m\u001b[0;34m)\u001b[0m\u001b[0;34m\u001b[0m\u001b[0;34m\u001b[0m\u001b[0m\n\u001b[0m\u001b[1;32m   6134\u001b[0m \u001b[0;34m\u001b[0m\u001b[0m\n\u001b[1;32m   6135\u001b[0m     \u001b[0;34m@\u001b[0m\u001b[0moverload\u001b[0m\u001b[0;34m\u001b[0m\u001b[0;34m\u001b[0m\u001b[0m\n",
            "\u001b[0;31mKeyError\u001b[0m: \"['dp3271', 'dominio'] not in index\""
          ]
        }
      ]
    },
    {
      "cell_type": "markdown",
      "source": [
        "#### 4.1.2 Gráfico de barras apiladas población por trimestre "
      ],
      "metadata": {
        "id": "NVm1yXEpKnbf"
      }
    },
    {
      "cell_type": "markdown",
      "source": [
        "## **5. Modelo de regresión logística**\n",
        "\n",
        "En este apartado se mostraron los análisis y resultados luego de aplicar modelación logística a los datos de informalidad, para establecer su determinantes. "
      ],
      "metadata": {
        "id": "4QoQlJJ3390M"
      }
    },
    {
      "cell_type": "code",
      "source": [
        "#LIBRERIA:\n",
        "import statsmodels.api as sm\n",
        "from sklearn.linear_model import LogisticRegression as lr"
      ],
      "metadata": {
        "id": "f5kxN4LX4Wq6",
        "colab": {
          "base_uri": "https://localhost:8080/"
        },
        "outputId": "ad4d9b08-ad43-425d-bad7-4b95f741f7e6"
      },
      "execution_count": 76,
      "outputs": [
        {
          "output_type": "stream",
          "name": "stderr",
          "text": [
            "<frozen importlib._bootstrap>:914: ImportWarning: APICoreClientInfoImportHook.find_spec() not found; falling back to find_module()\n",
            "<frozen importlib._bootstrap>:914: ImportWarning: _PyDriveImportHook.find_spec() not found; falling back to find_module()\n",
            "<frozen importlib._bootstrap>:914: ImportWarning: _OpenCVImportHook.find_spec() not found; falling back to find_module()\n",
            "<frozen importlib._bootstrap>:914: ImportWarning: _BokehImportHook.find_spec() not found; falling back to find_module()\n",
            "<frozen importlib._bootstrap>:914: ImportWarning: _AltairImportHook.find_spec() not found; falling back to find_module()\n",
            "<frozen importlib._bootstrap>:914: ImportWarning: APICoreClientInfoImportHook.find_spec() not found; falling back to find_module()\n",
            "<frozen importlib._bootstrap>:914: ImportWarning: _PyDriveImportHook.find_spec() not found; falling back to find_module()\n",
            "<frozen importlib._bootstrap>:914: ImportWarning: _OpenCVImportHook.find_spec() not found; falling back to find_module()\n",
            "<frozen importlib._bootstrap>:914: ImportWarning: _BokehImportHook.find_spec() not found; falling back to find_module()\n",
            "<frozen importlib._bootstrap>:914: ImportWarning: _AltairImportHook.find_spec() not found; falling back to find_module()\n",
            "<frozen importlib._bootstrap>:914: ImportWarning: APICoreClientInfoImportHook.find_spec() not found; falling back to find_module()\n",
            "<frozen importlib._bootstrap>:914: ImportWarning: _PyDriveImportHook.find_spec() not found; falling back to find_module()\n",
            "<frozen importlib._bootstrap>:914: ImportWarning: _OpenCVImportHook.find_spec() not found; falling back to find_module()\n",
            "<frozen importlib._bootstrap>:914: ImportWarning: _BokehImportHook.find_spec() not found; falling back to find_module()\n",
            "<frozen importlib._bootstrap>:914: ImportWarning: _AltairImportHook.find_spec() not found; falling back to find_module()\n"
          ]
        }
      ]
    },
    {
      "cell_type": "markdown",
      "source": [
        "### 5.1 Categorización de variables"
      ],
      "metadata": {
        "id": "-nBfbGK84Xl4"
      }
    },
    {
      "cell_type": "code",
      "source": [
        "#COVARIABLES:\n",
        "cov  = ['infor','const','p6040','p6040^2','nper','nper_ocu','dp3271','a_educ','a_educ^2','dominio']\n",
        "logi = pd.get_dummies(df_final[cov].dropna(), prefix='c').drop('c_11', axis=1)\n",
        "y    = logi[logi.columns[0]].map(lambda formal: 1-formal).astype(np.int8)\n",
        "x    = logi[logi.columns[1:]].astype(np.float32)"
      ],
      "metadata": {
        "id": "zlggr3hJ8AMw",
        "colab": {
          "base_uri": "https://localhost:8080/",
          "height": 380
        },
        "outputId": "b1e1a9f2-6402-417c-8329-d22027c61438"
      },
      "execution_count": 77,
      "outputs": [
        {
          "output_type": "error",
          "ename": "KeyError",
          "evalue": "ignored",
          "traceback": [
            "\u001b[0;31m---------------------------------------------------------------------------\u001b[0m",
            "\u001b[0;31mKeyError\u001b[0m                                  Traceback (most recent call last)",
            "\u001b[0;32m<ipython-input-77-55fc28e71b67>\u001b[0m in \u001b[0;36m<cell line: 3>\u001b[0;34m()\u001b[0m\n\u001b[1;32m      1\u001b[0m \u001b[0;31m#COVARIABLES:\u001b[0m\u001b[0;34m\u001b[0m\u001b[0;34m\u001b[0m\u001b[0m\n\u001b[1;32m      2\u001b[0m \u001b[0mcov\u001b[0m  \u001b[0;34m=\u001b[0m \u001b[0;34m[\u001b[0m\u001b[0;34m'infor'\u001b[0m\u001b[0;34m,\u001b[0m\u001b[0;34m'const'\u001b[0m\u001b[0;34m,\u001b[0m\u001b[0;34m'p6040'\u001b[0m\u001b[0;34m,\u001b[0m\u001b[0;34m'p6040^2'\u001b[0m\u001b[0;34m,\u001b[0m\u001b[0;34m'nper'\u001b[0m\u001b[0;34m,\u001b[0m\u001b[0;34m'nper_ocu'\u001b[0m\u001b[0;34m,\u001b[0m\u001b[0;34m'dp3271'\u001b[0m\u001b[0;34m,\u001b[0m\u001b[0;34m'a_educ'\u001b[0m\u001b[0;34m,\u001b[0m\u001b[0;34m'a_educ^2'\u001b[0m\u001b[0;34m,\u001b[0m\u001b[0;34m'dominio'\u001b[0m\u001b[0;34m]\u001b[0m\u001b[0;34m\u001b[0m\u001b[0;34m\u001b[0m\u001b[0m\n\u001b[0;32m----> 3\u001b[0;31m \u001b[0mlogi\u001b[0m \u001b[0;34m=\u001b[0m \u001b[0mpd\u001b[0m\u001b[0;34m.\u001b[0m\u001b[0mget_dummies\u001b[0m\u001b[0;34m(\u001b[0m\u001b[0mdf_final\u001b[0m\u001b[0;34m[\u001b[0m\u001b[0mcov\u001b[0m\u001b[0;34m]\u001b[0m\u001b[0;34m.\u001b[0m\u001b[0mdropna\u001b[0m\u001b[0;34m(\u001b[0m\u001b[0;34m)\u001b[0m\u001b[0;34m,\u001b[0m \u001b[0mprefix\u001b[0m\u001b[0;34m=\u001b[0m\u001b[0;34m'c'\u001b[0m\u001b[0;34m)\u001b[0m\u001b[0;34m.\u001b[0m\u001b[0mdrop\u001b[0m\u001b[0;34m(\u001b[0m\u001b[0;34m'c_11'\u001b[0m\u001b[0;34m,\u001b[0m \u001b[0maxis\u001b[0m\u001b[0;34m=\u001b[0m\u001b[0;36m1\u001b[0m\u001b[0;34m)\u001b[0m\u001b[0;34m\u001b[0m\u001b[0;34m\u001b[0m\u001b[0m\n\u001b[0m\u001b[1;32m      4\u001b[0m \u001b[0my\u001b[0m    \u001b[0;34m=\u001b[0m \u001b[0mlogi\u001b[0m\u001b[0;34m[\u001b[0m\u001b[0mlogi\u001b[0m\u001b[0;34m.\u001b[0m\u001b[0mcolumns\u001b[0m\u001b[0;34m[\u001b[0m\u001b[0;36m0\u001b[0m\u001b[0;34m]\u001b[0m\u001b[0;34m]\u001b[0m\u001b[0;34m.\u001b[0m\u001b[0mmap\u001b[0m\u001b[0;34m(\u001b[0m\u001b[0;32mlambda\u001b[0m \u001b[0mformal\u001b[0m\u001b[0;34m:\u001b[0m \u001b[0;36m1\u001b[0m\u001b[0;34m-\u001b[0m\u001b[0mformal\u001b[0m\u001b[0;34m)\u001b[0m\u001b[0;34m.\u001b[0m\u001b[0mastype\u001b[0m\u001b[0;34m(\u001b[0m\u001b[0mnp\u001b[0m\u001b[0;34m.\u001b[0m\u001b[0mint8\u001b[0m\u001b[0;34m)\u001b[0m\u001b[0;34m\u001b[0m\u001b[0;34m\u001b[0m\u001b[0m\n\u001b[1;32m      5\u001b[0m \u001b[0mx\u001b[0m    \u001b[0;34m=\u001b[0m \u001b[0mlogi\u001b[0m\u001b[0;34m[\u001b[0m\u001b[0mlogi\u001b[0m\u001b[0;34m.\u001b[0m\u001b[0mcolumns\u001b[0m\u001b[0;34m[\u001b[0m\u001b[0;36m1\u001b[0m\u001b[0;34m:\u001b[0m\u001b[0;34m]\u001b[0m\u001b[0;34m]\u001b[0m\u001b[0;34m.\u001b[0m\u001b[0mastype\u001b[0m\u001b[0;34m(\u001b[0m\u001b[0mnp\u001b[0m\u001b[0;34m.\u001b[0m\u001b[0mfloat32\u001b[0m\u001b[0;34m)\u001b[0m\u001b[0;34m\u001b[0m\u001b[0;34m\u001b[0m\u001b[0m\n",
            "\u001b[0;32m/usr/local/lib/python3.10/dist-packages/pandas/core/frame.py\u001b[0m in \u001b[0;36m__getitem__\u001b[0;34m(self, key)\u001b[0m\n\u001b[1;32m   3811\u001b[0m             \u001b[0;32mif\u001b[0m \u001b[0mis_iterator\u001b[0m\u001b[0;34m(\u001b[0m\u001b[0mkey\u001b[0m\u001b[0;34m)\u001b[0m\u001b[0;34m:\u001b[0m\u001b[0;34m\u001b[0m\u001b[0;34m\u001b[0m\u001b[0m\n\u001b[1;32m   3812\u001b[0m                 \u001b[0mkey\u001b[0m \u001b[0;34m=\u001b[0m \u001b[0mlist\u001b[0m\u001b[0;34m(\u001b[0m\u001b[0mkey\u001b[0m\u001b[0;34m)\u001b[0m\u001b[0;34m\u001b[0m\u001b[0;34m\u001b[0m\u001b[0m\n\u001b[0;32m-> 3813\u001b[0;31m             \u001b[0mindexer\u001b[0m \u001b[0;34m=\u001b[0m \u001b[0mself\u001b[0m\u001b[0;34m.\u001b[0m\u001b[0mcolumns\u001b[0m\u001b[0;34m.\u001b[0m\u001b[0m_get_indexer_strict\u001b[0m\u001b[0;34m(\u001b[0m\u001b[0mkey\u001b[0m\u001b[0;34m,\u001b[0m \u001b[0;34m\"columns\"\u001b[0m\u001b[0;34m)\u001b[0m\u001b[0;34m[\u001b[0m\u001b[0;36m1\u001b[0m\u001b[0;34m]\u001b[0m\u001b[0;34m\u001b[0m\u001b[0;34m\u001b[0m\u001b[0m\n\u001b[0m\u001b[1;32m   3814\u001b[0m \u001b[0;34m\u001b[0m\u001b[0m\n\u001b[1;32m   3815\u001b[0m         \u001b[0;31m# take() does not accept boolean indexers\u001b[0m\u001b[0;34m\u001b[0m\u001b[0;34m\u001b[0m\u001b[0m\n",
            "\u001b[0;32m/usr/local/lib/python3.10/dist-packages/pandas/core/indexes/base.py\u001b[0m in \u001b[0;36m_get_indexer_strict\u001b[0;34m(self, key, axis_name)\u001b[0m\n\u001b[1;32m   6068\u001b[0m             \u001b[0mkeyarr\u001b[0m\u001b[0;34m,\u001b[0m \u001b[0mindexer\u001b[0m\u001b[0;34m,\u001b[0m \u001b[0mnew_indexer\u001b[0m \u001b[0;34m=\u001b[0m \u001b[0mself\u001b[0m\u001b[0;34m.\u001b[0m\u001b[0m_reindex_non_unique\u001b[0m\u001b[0;34m(\u001b[0m\u001b[0mkeyarr\u001b[0m\u001b[0;34m)\u001b[0m\u001b[0;34m\u001b[0m\u001b[0;34m\u001b[0m\u001b[0m\n\u001b[1;32m   6069\u001b[0m \u001b[0;34m\u001b[0m\u001b[0m\n\u001b[0;32m-> 6070\u001b[0;31m         \u001b[0mself\u001b[0m\u001b[0;34m.\u001b[0m\u001b[0m_raise_if_missing\u001b[0m\u001b[0;34m(\u001b[0m\u001b[0mkeyarr\u001b[0m\u001b[0;34m,\u001b[0m \u001b[0mindexer\u001b[0m\u001b[0;34m,\u001b[0m \u001b[0maxis_name\u001b[0m\u001b[0;34m)\u001b[0m\u001b[0;34m\u001b[0m\u001b[0;34m\u001b[0m\u001b[0m\n\u001b[0m\u001b[1;32m   6071\u001b[0m \u001b[0;34m\u001b[0m\u001b[0m\n\u001b[1;32m   6072\u001b[0m         \u001b[0mkeyarr\u001b[0m \u001b[0;34m=\u001b[0m \u001b[0mself\u001b[0m\u001b[0;34m.\u001b[0m\u001b[0mtake\u001b[0m\u001b[0;34m(\u001b[0m\u001b[0mindexer\u001b[0m\u001b[0;34m)\u001b[0m\u001b[0;34m\u001b[0m\u001b[0;34m\u001b[0m\u001b[0m\n",
            "\u001b[0;32m/usr/local/lib/python3.10/dist-packages/pandas/core/indexes/base.py\u001b[0m in \u001b[0;36m_raise_if_missing\u001b[0;34m(self, key, indexer, axis_name)\u001b[0m\n\u001b[1;32m   6131\u001b[0m \u001b[0;34m\u001b[0m\u001b[0m\n\u001b[1;32m   6132\u001b[0m             \u001b[0mnot_found\u001b[0m \u001b[0;34m=\u001b[0m \u001b[0mlist\u001b[0m\u001b[0;34m(\u001b[0m\u001b[0mensure_index\u001b[0m\u001b[0;34m(\u001b[0m\u001b[0mkey\u001b[0m\u001b[0;34m)\u001b[0m\u001b[0;34m[\u001b[0m\u001b[0mmissing_mask\u001b[0m\u001b[0;34m.\u001b[0m\u001b[0mnonzero\u001b[0m\u001b[0;34m(\u001b[0m\u001b[0;34m)\u001b[0m\u001b[0;34m[\u001b[0m\u001b[0;36m0\u001b[0m\u001b[0;34m]\u001b[0m\u001b[0;34m]\u001b[0m\u001b[0;34m.\u001b[0m\u001b[0munique\u001b[0m\u001b[0;34m(\u001b[0m\u001b[0;34m)\u001b[0m\u001b[0;34m)\u001b[0m\u001b[0;34m\u001b[0m\u001b[0;34m\u001b[0m\u001b[0m\n\u001b[0;32m-> 6133\u001b[0;31m             \u001b[0;32mraise\u001b[0m \u001b[0mKeyError\u001b[0m\u001b[0;34m(\u001b[0m\u001b[0;34mf\"{not_found} not in index\"\u001b[0m\u001b[0;34m)\u001b[0m\u001b[0;34m\u001b[0m\u001b[0;34m\u001b[0m\u001b[0m\n\u001b[0m\u001b[1;32m   6134\u001b[0m \u001b[0;34m\u001b[0m\u001b[0m\n\u001b[1;32m   6135\u001b[0m     \u001b[0;34m@\u001b[0m\u001b[0moverload\u001b[0m\u001b[0;34m\u001b[0m\u001b[0;34m\u001b[0m\u001b[0m\n",
            "\u001b[0;31mKeyError\u001b[0m: \"['const', 'p6040^2', 'dp3271', 'a_educ^2', 'dominio'] not in index\""
          ]
        }
      ]
    },
    {
      "cell_type": "markdown",
      "source": [
        "### 5.2 Estimación de **modelo**\n",
        "\n"
      ],
      "metadata": {
        "id": "29DlEOZp6HKD"
      }
    },
    {
      "cell_type": "code",
      "source": [
        "#LOGISTIC REGRESSION:\n",
        "# output = lr(penalty=None).fit(x,y)\n",
        "out = sm.Logit(y,x).fit().summary()\n",
        "print(out)"
      ],
      "metadata": {
        "colab": {
          "base_uri": "https://localhost:8080/"
        },
        "id": "61chKHGX6PcO",
        "outputId": "38082952-3d70-4ad2-df99-8a35a4e2278f"
      },
      "execution_count": null,
      "outputs": [
        {
          "output_type": "stream",
          "name": "stdout",
          "text": [
            "Optimization terminated successfully.\n",
            "         Current function value: 0.542352\n",
            "         Iterations 6\n",
            "                           Logit Regression Results                           \n",
            "==============================================================================\n",
            "Dep. Variable:                  infor   No. Observations:               382450\n",
            "Model:                          Logit   Df Residuals:                   382417\n",
            "Method:                           MLE   Df Model:                           32\n",
            "Date:                Wed, 24 May 2023   Pseudo R-squ.:                  0.2019\n",
            "Time:                        04:20:28   Log-Likelihood:            -2.0742e+05\n",
            "converged:                       True   LL-Null:                   -2.5989e+05\n",
            "Covariance Type:            nonrobust   LLR p-value:                     0.000\n",
            "==============================================================================\n",
            "                 coef    std err          z      P>|z|      [0.025      0.975]\n",
            "------------------------------------------------------------------------------\n",
            "const          3.3435      0.049     68.349      0.000       3.248       3.439\n",
            "p6040         -0.0893      0.002    -50.624      0.000      -0.093      -0.086\n",
            "p6040^2        0.0010   2.06e-05     49.131      0.000       0.001       0.001\n",
            "nper           0.0225      0.003      8.238      0.000       0.017       0.028\n",
            "nper_ocu       0.0253      0.005      4.986      0.000       0.015       0.035\n",
            "dp3271        -0.1627      0.008    -20.976      0.000      -0.178      -0.148\n",
            "a_educ        -0.0674      0.004    -15.577      0.000      -0.076      -0.059\n",
            "a_educ^2      -0.0089      0.000    -42.917      0.000      -0.009      -0.009\n",
            "c_05          -0.0270      0.027     -1.001      0.317      -0.080       0.026\n",
            "c_08           0.7609      0.028     26.745      0.000       0.705       0.817\n",
            "c_100          1.2017      0.025     48.707      0.000       1.153       1.250\n",
            "c_101          0.7403      0.022     33.140      0.000       0.696       0.784\n",
            "c_13           0.8796      0.028     31.461      0.000       0.825       0.934\n",
            "c_15           0.3681      0.032     11.654      0.000       0.306       0.430\n",
            "c_17          -0.1906      0.028     -6.768      0.000      -0.246      -0.135\n",
            "c_18           0.7770      0.032     24.348      0.000       0.714       0.840\n",
            "c_19           0.9742      0.031     31.606      0.000       0.914       1.035\n",
            "c_20           1.1975      0.032     37.470      0.000       1.135       1.260\n",
            "c_23           0.9901      0.032     30.509      0.000       0.927       1.054\n",
            "c_27           1.1905      0.033     36.080      0.000       1.126       1.255\n",
            "c_41           0.3230      0.031     10.328      0.000       0.262       0.384\n",
            "c_44           1.2774      0.033     38.857      0.000       1.213       1.342\n",
            "c_47           1.0558      0.030     34.871      0.000       0.996       1.115\n",
            "c_50           0.5373      0.030     18.010      0.000       0.479       0.596\n",
            "c_52           0.8406      0.030     28.214      0.000       0.782       0.899\n",
            "c_54           1.0224      0.030     34.348      0.000       0.964       1.081\n",
            "c_63           0.0957      0.031      3.109      0.002       0.035       0.156\n",
            "c_66           0.0137      0.028      0.486      0.627      -0.041       0.069\n",
            "c_68           0.4304      0.029     15.075      0.000       0.374       0.486\n",
            "c_70           1.2863      0.032     40.591      0.000       1.224       1.348\n",
            "c_73           0.4889      0.033     14.635      0.000       0.423       0.554\n",
            "c_76           0.2203      0.027      8.063      0.000       0.167       0.274\n",
            "c_88          -0.4182      0.034    -12.371      0.000      -0.484      -0.352\n",
            "==============================================================================\n"
          ]
        }
      ]
    },
    {
      "cell_type": "code",
      "source": [
        "#COEFICIENTES:\n",
        "out_as_html   = out.tables[1].as_html()\n",
        "tabla_as_html = pd.read_html(out_as_html, header=0, index_col=0)[0]\n",
        "tabla_as_html"
      ],
      "metadata": {
        "colab": {
          "base_uri": "https://localhost:8080/",
          "height": 1000
        },
        "id": "QvlxnsiJ_ALS",
        "outputId": "e3f56e11-0c0d-40fa-9501-8beb1e13b2fe"
      },
      "execution_count": null,
      "outputs": [
        {
          "output_type": "execute_result",
          "data": {
            "text/plain": [
              "            coef   std err       z  P>|z|  [0.025  0.975]\n",
              "const     3.3435  0.049000  68.349  0.000   3.248   3.439\n",
              "p6040    -0.0893  0.002000 -50.624  0.000  -0.093  -0.086\n",
              "p6040^2   0.0010  0.000021  49.131  0.000   0.001   0.001\n",
              "nper      0.0225  0.003000   8.238  0.000   0.017   0.028\n",
              "nper_ocu  0.0253  0.005000   4.986  0.000   0.015   0.035\n",
              "dp3271   -0.1627  0.008000 -20.976  0.000  -0.178  -0.148\n",
              "a_educ   -0.0674  0.004000 -15.577  0.000  -0.076  -0.059\n",
              "a_educ^2 -0.0089  0.000000 -42.917  0.000  -0.009  -0.009\n",
              "c_05     -0.0270  0.027000  -1.001  0.317  -0.080   0.026\n",
              "c_08      0.7609  0.028000  26.745  0.000   0.705   0.817\n",
              "c_100     1.2017  0.025000  48.707  0.000   1.153   1.250\n",
              "c_101     0.7403  0.022000  33.140  0.000   0.696   0.784\n",
              "c_13      0.8796  0.028000  31.461  0.000   0.825   0.934\n",
              "c_15      0.3681  0.032000  11.654  0.000   0.306   0.430\n",
              "c_17     -0.1906  0.028000  -6.768  0.000  -0.246  -0.135\n",
              "c_18      0.7770  0.032000  24.348  0.000   0.714   0.840\n",
              "c_19      0.9742  0.031000  31.606  0.000   0.914   1.035\n",
              "c_20      1.1975  0.032000  37.470  0.000   1.135   1.260\n",
              "c_23      0.9901  0.032000  30.509  0.000   0.927   1.054\n",
              "c_27      1.1905  0.033000  36.080  0.000   1.126   1.255\n",
              "c_41      0.3230  0.031000  10.328  0.000   0.262   0.384\n",
              "c_44      1.2774  0.033000  38.857  0.000   1.213   1.342\n",
              "c_47      1.0558  0.030000  34.871  0.000   0.996   1.115\n",
              "c_50      0.5373  0.030000  18.010  0.000   0.479   0.596\n",
              "c_52      0.8406  0.030000  28.214  0.000   0.782   0.899\n",
              "c_54      1.0224  0.030000  34.348  0.000   0.964   1.081\n",
              "c_63      0.0957  0.031000   3.109  0.002   0.035   0.156\n",
              "c_66      0.0137  0.028000   0.486  0.627  -0.041   0.069\n",
              "c_68      0.4304  0.029000  15.075  0.000   0.374   0.486\n",
              "c_70      1.2863  0.032000  40.591  0.000   1.224   1.348\n",
              "c_73      0.4889  0.033000  14.635  0.000   0.423   0.554\n",
              "c_76      0.2203  0.027000   8.063  0.000   0.167   0.274\n",
              "c_88     -0.4182  0.034000 -12.371  0.000  -0.484  -0.352"
            ],
            "text/html": [
              "\n",
              "  <div id=\"df-c804bc1d-487d-425f-865a-9a78ee345e23\">\n",
              "    <div class=\"colab-df-container\">\n",
              "      <div>\n",
              "<style scoped>\n",
              "    .dataframe tbody tr th:only-of-type {\n",
              "        vertical-align: middle;\n",
              "    }\n",
              "\n",
              "    .dataframe tbody tr th {\n",
              "        vertical-align: top;\n",
              "    }\n",
              "\n",
              "    .dataframe thead th {\n",
              "        text-align: right;\n",
              "    }\n",
              "</style>\n",
              "<table border=\"1\" class=\"dataframe\">\n",
              "  <thead>\n",
              "    <tr style=\"text-align: right;\">\n",
              "      <th></th>\n",
              "      <th>coef</th>\n",
              "      <th>std err</th>\n",
              "      <th>z</th>\n",
              "      <th>P&gt;|z|</th>\n",
              "      <th>[0.025</th>\n",
              "      <th>0.975]</th>\n",
              "    </tr>\n",
              "  </thead>\n",
              "  <tbody>\n",
              "    <tr>\n",
              "      <th>const</th>\n",
              "      <td>3.3435</td>\n",
              "      <td>0.049000</td>\n",
              "      <td>68.349</td>\n",
              "      <td>0.000</td>\n",
              "      <td>3.248</td>\n",
              "      <td>3.439</td>\n",
              "    </tr>\n",
              "    <tr>\n",
              "      <th>p6040</th>\n",
              "      <td>-0.0893</td>\n",
              "      <td>0.002000</td>\n",
              "      <td>-50.624</td>\n",
              "      <td>0.000</td>\n",
              "      <td>-0.093</td>\n",
              "      <td>-0.086</td>\n",
              "    </tr>\n",
              "    <tr>\n",
              "      <th>p6040^2</th>\n",
              "      <td>0.0010</td>\n",
              "      <td>0.000021</td>\n",
              "      <td>49.131</td>\n",
              "      <td>0.000</td>\n",
              "      <td>0.001</td>\n",
              "      <td>0.001</td>\n",
              "    </tr>\n",
              "    <tr>\n",
              "      <th>nper</th>\n",
              "      <td>0.0225</td>\n",
              "      <td>0.003000</td>\n",
              "      <td>8.238</td>\n",
              "      <td>0.000</td>\n",
              "      <td>0.017</td>\n",
              "      <td>0.028</td>\n",
              "    </tr>\n",
              "    <tr>\n",
              "      <th>nper_ocu</th>\n",
              "      <td>0.0253</td>\n",
              "      <td>0.005000</td>\n",
              "      <td>4.986</td>\n",
              "      <td>0.000</td>\n",
              "      <td>0.015</td>\n",
              "      <td>0.035</td>\n",
              "    </tr>\n",
              "    <tr>\n",
              "      <th>dp3271</th>\n",
              "      <td>-0.1627</td>\n",
              "      <td>0.008000</td>\n",
              "      <td>-20.976</td>\n",
              "      <td>0.000</td>\n",
              "      <td>-0.178</td>\n",
              "      <td>-0.148</td>\n",
              "    </tr>\n",
              "    <tr>\n",
              "      <th>a_educ</th>\n",
              "      <td>-0.0674</td>\n",
              "      <td>0.004000</td>\n",
              "      <td>-15.577</td>\n",
              "      <td>0.000</td>\n",
              "      <td>-0.076</td>\n",
              "      <td>-0.059</td>\n",
              "    </tr>\n",
              "    <tr>\n",
              "      <th>a_educ^2</th>\n",
              "      <td>-0.0089</td>\n",
              "      <td>0.000000</td>\n",
              "      <td>-42.917</td>\n",
              "      <td>0.000</td>\n",
              "      <td>-0.009</td>\n",
              "      <td>-0.009</td>\n",
              "    </tr>\n",
              "    <tr>\n",
              "      <th>c_05</th>\n",
              "      <td>-0.0270</td>\n",
              "      <td>0.027000</td>\n",
              "      <td>-1.001</td>\n",
              "      <td>0.317</td>\n",
              "      <td>-0.080</td>\n",
              "      <td>0.026</td>\n",
              "    </tr>\n",
              "    <tr>\n",
              "      <th>c_08</th>\n",
              "      <td>0.7609</td>\n",
              "      <td>0.028000</td>\n",
              "      <td>26.745</td>\n",
              "      <td>0.000</td>\n",
              "      <td>0.705</td>\n",
              "      <td>0.817</td>\n",
              "    </tr>\n",
              "    <tr>\n",
              "      <th>c_100</th>\n",
              "      <td>1.2017</td>\n",
              "      <td>0.025000</td>\n",
              "      <td>48.707</td>\n",
              "      <td>0.000</td>\n",
              "      <td>1.153</td>\n",
              "      <td>1.250</td>\n",
              "    </tr>\n",
              "    <tr>\n",
              "      <th>c_101</th>\n",
              "      <td>0.7403</td>\n",
              "      <td>0.022000</td>\n",
              "      <td>33.140</td>\n",
              "      <td>0.000</td>\n",
              "      <td>0.696</td>\n",
              "      <td>0.784</td>\n",
              "    </tr>\n",
              "    <tr>\n",
              "      <th>c_13</th>\n",
              "      <td>0.8796</td>\n",
              "      <td>0.028000</td>\n",
              "      <td>31.461</td>\n",
              "      <td>0.000</td>\n",
              "      <td>0.825</td>\n",
              "      <td>0.934</td>\n",
              "    </tr>\n",
              "    <tr>\n",
              "      <th>c_15</th>\n",
              "      <td>0.3681</td>\n",
              "      <td>0.032000</td>\n",
              "      <td>11.654</td>\n",
              "      <td>0.000</td>\n",
              "      <td>0.306</td>\n",
              "      <td>0.430</td>\n",
              "    </tr>\n",
              "    <tr>\n",
              "      <th>c_17</th>\n",
              "      <td>-0.1906</td>\n",
              "      <td>0.028000</td>\n",
              "      <td>-6.768</td>\n",
              "      <td>0.000</td>\n",
              "      <td>-0.246</td>\n",
              "      <td>-0.135</td>\n",
              "    </tr>\n",
              "    <tr>\n",
              "      <th>c_18</th>\n",
              "      <td>0.7770</td>\n",
              "      <td>0.032000</td>\n",
              "      <td>24.348</td>\n",
              "      <td>0.000</td>\n",
              "      <td>0.714</td>\n",
              "      <td>0.840</td>\n",
              "    </tr>\n",
              "    <tr>\n",
              "      <th>c_19</th>\n",
              "      <td>0.9742</td>\n",
              "      <td>0.031000</td>\n",
              "      <td>31.606</td>\n",
              "      <td>0.000</td>\n",
              "      <td>0.914</td>\n",
              "      <td>1.035</td>\n",
              "    </tr>\n",
              "    <tr>\n",
              "      <th>c_20</th>\n",
              "      <td>1.1975</td>\n",
              "      <td>0.032000</td>\n",
              "      <td>37.470</td>\n",
              "      <td>0.000</td>\n",
              "      <td>1.135</td>\n",
              "      <td>1.260</td>\n",
              "    </tr>\n",
              "    <tr>\n",
              "      <th>c_23</th>\n",
              "      <td>0.9901</td>\n",
              "      <td>0.032000</td>\n",
              "      <td>30.509</td>\n",
              "      <td>0.000</td>\n",
              "      <td>0.927</td>\n",
              "      <td>1.054</td>\n",
              "    </tr>\n",
              "    <tr>\n",
              "      <th>c_27</th>\n",
              "      <td>1.1905</td>\n",
              "      <td>0.033000</td>\n",
              "      <td>36.080</td>\n",
              "      <td>0.000</td>\n",
              "      <td>1.126</td>\n",
              "      <td>1.255</td>\n",
              "    </tr>\n",
              "    <tr>\n",
              "      <th>c_41</th>\n",
              "      <td>0.3230</td>\n",
              "      <td>0.031000</td>\n",
              "      <td>10.328</td>\n",
              "      <td>0.000</td>\n",
              "      <td>0.262</td>\n",
              "      <td>0.384</td>\n",
              "    </tr>\n",
              "    <tr>\n",
              "      <th>c_44</th>\n",
              "      <td>1.2774</td>\n",
              "      <td>0.033000</td>\n",
              "      <td>38.857</td>\n",
              "      <td>0.000</td>\n",
              "      <td>1.213</td>\n",
              "      <td>1.342</td>\n",
              "    </tr>\n",
              "    <tr>\n",
              "      <th>c_47</th>\n",
              "      <td>1.0558</td>\n",
              "      <td>0.030000</td>\n",
              "      <td>34.871</td>\n",
              "      <td>0.000</td>\n",
              "      <td>0.996</td>\n",
              "      <td>1.115</td>\n",
              "    </tr>\n",
              "    <tr>\n",
              "      <th>c_50</th>\n",
              "      <td>0.5373</td>\n",
              "      <td>0.030000</td>\n",
              "      <td>18.010</td>\n",
              "      <td>0.000</td>\n",
              "      <td>0.479</td>\n",
              "      <td>0.596</td>\n",
              "    </tr>\n",
              "    <tr>\n",
              "      <th>c_52</th>\n",
              "      <td>0.8406</td>\n",
              "      <td>0.030000</td>\n",
              "      <td>28.214</td>\n",
              "      <td>0.000</td>\n",
              "      <td>0.782</td>\n",
              "      <td>0.899</td>\n",
              "    </tr>\n",
              "    <tr>\n",
              "      <th>c_54</th>\n",
              "      <td>1.0224</td>\n",
              "      <td>0.030000</td>\n",
              "      <td>34.348</td>\n",
              "      <td>0.000</td>\n",
              "      <td>0.964</td>\n",
              "      <td>1.081</td>\n",
              "    </tr>\n",
              "    <tr>\n",
              "      <th>c_63</th>\n",
              "      <td>0.0957</td>\n",
              "      <td>0.031000</td>\n",
              "      <td>3.109</td>\n",
              "      <td>0.002</td>\n",
              "      <td>0.035</td>\n",
              "      <td>0.156</td>\n",
              "    </tr>\n",
              "    <tr>\n",
              "      <th>c_66</th>\n",
              "      <td>0.0137</td>\n",
              "      <td>0.028000</td>\n",
              "      <td>0.486</td>\n",
              "      <td>0.627</td>\n",
              "      <td>-0.041</td>\n",
              "      <td>0.069</td>\n",
              "    </tr>\n",
              "    <tr>\n",
              "      <th>c_68</th>\n",
              "      <td>0.4304</td>\n",
              "      <td>0.029000</td>\n",
              "      <td>15.075</td>\n",
              "      <td>0.000</td>\n",
              "      <td>0.374</td>\n",
              "      <td>0.486</td>\n",
              "    </tr>\n",
              "    <tr>\n",
              "      <th>c_70</th>\n",
              "      <td>1.2863</td>\n",
              "      <td>0.032000</td>\n",
              "      <td>40.591</td>\n",
              "      <td>0.000</td>\n",
              "      <td>1.224</td>\n",
              "      <td>1.348</td>\n",
              "    </tr>\n",
              "    <tr>\n",
              "      <th>c_73</th>\n",
              "      <td>0.4889</td>\n",
              "      <td>0.033000</td>\n",
              "      <td>14.635</td>\n",
              "      <td>0.000</td>\n",
              "      <td>0.423</td>\n",
              "      <td>0.554</td>\n",
              "    </tr>\n",
              "    <tr>\n",
              "      <th>c_76</th>\n",
              "      <td>0.2203</td>\n",
              "      <td>0.027000</td>\n",
              "      <td>8.063</td>\n",
              "      <td>0.000</td>\n",
              "      <td>0.167</td>\n",
              "      <td>0.274</td>\n",
              "    </tr>\n",
              "    <tr>\n",
              "      <th>c_88</th>\n",
              "      <td>-0.4182</td>\n",
              "      <td>0.034000</td>\n",
              "      <td>-12.371</td>\n",
              "      <td>0.000</td>\n",
              "      <td>-0.484</td>\n",
              "      <td>-0.352</td>\n",
              "    </tr>\n",
              "  </tbody>\n",
              "</table>\n",
              "</div>\n",
              "      <button class=\"colab-df-convert\" onclick=\"convertToInteractive('df-c804bc1d-487d-425f-865a-9a78ee345e23')\"\n",
              "              title=\"Convert this dataframe to an interactive table.\"\n",
              "              style=\"display:none;\">\n",
              "        \n",
              "  <svg xmlns=\"http://www.w3.org/2000/svg\" height=\"24px\"viewBox=\"0 0 24 24\"\n",
              "       width=\"24px\">\n",
              "    <path d=\"M0 0h24v24H0V0z\" fill=\"none\"/>\n",
              "    <path d=\"M18.56 5.44l.94 2.06.94-2.06 2.06-.94-2.06-.94-.94-2.06-.94 2.06-2.06.94zm-11 1L8.5 8.5l.94-2.06 2.06-.94-2.06-.94L8.5 2.5l-.94 2.06-2.06.94zm10 10l.94 2.06.94-2.06 2.06-.94-2.06-.94-.94-2.06-.94 2.06-2.06.94z\"/><path d=\"M17.41 7.96l-1.37-1.37c-.4-.4-.92-.59-1.43-.59-.52 0-1.04.2-1.43.59L10.3 9.45l-7.72 7.72c-.78.78-.78 2.05 0 2.83L4 21.41c.39.39.9.59 1.41.59.51 0 1.02-.2 1.41-.59l7.78-7.78 2.81-2.81c.8-.78.8-2.07 0-2.86zM5.41 20L4 18.59l7.72-7.72 1.47 1.35L5.41 20z\"/>\n",
              "  </svg>\n",
              "      </button>\n",
              "      \n",
              "  <style>\n",
              "    .colab-df-container {\n",
              "      display:flex;\n",
              "      flex-wrap:wrap;\n",
              "      gap: 12px;\n",
              "    }\n",
              "\n",
              "    .colab-df-convert {\n",
              "      background-color: #E8F0FE;\n",
              "      border: none;\n",
              "      border-radius: 50%;\n",
              "      cursor: pointer;\n",
              "      display: none;\n",
              "      fill: #1967D2;\n",
              "      height: 32px;\n",
              "      padding: 0 0 0 0;\n",
              "      width: 32px;\n",
              "    }\n",
              "\n",
              "    .colab-df-convert:hover {\n",
              "      background-color: #E2EBFA;\n",
              "      box-shadow: 0px 1px 2px rgba(60, 64, 67, 0.3), 0px 1px 3px 1px rgba(60, 64, 67, 0.15);\n",
              "      fill: #174EA6;\n",
              "    }\n",
              "\n",
              "    [theme=dark] .colab-df-convert {\n",
              "      background-color: #3B4455;\n",
              "      fill: #D2E3FC;\n",
              "    }\n",
              "\n",
              "    [theme=dark] .colab-df-convert:hover {\n",
              "      background-color: #434B5C;\n",
              "      box-shadow: 0px 1px 3px 1px rgba(0, 0, 0, 0.15);\n",
              "      filter: drop-shadow(0px 1px 2px rgba(0, 0, 0, 0.3));\n",
              "      fill: #FFFFFF;\n",
              "    }\n",
              "  </style>\n",
              "\n",
              "      <script>\n",
              "        const buttonEl =\n",
              "          document.querySelector('#df-c804bc1d-487d-425f-865a-9a78ee345e23 button.colab-df-convert');\n",
              "        buttonEl.style.display =\n",
              "          google.colab.kernel.accessAllowed ? 'block' : 'none';\n",
              "\n",
              "        async function convertToInteractive(key) {\n",
              "          const element = document.querySelector('#df-c804bc1d-487d-425f-865a-9a78ee345e23');\n",
              "          const dataTable =\n",
              "            await google.colab.kernel.invokeFunction('convertToInteractive',\n",
              "                                                     [key], {});\n",
              "          if (!dataTable) return;\n",
              "\n",
              "          const docLinkHtml = 'Like what you see? Visit the ' +\n",
              "            '<a target=\"_blank\" href=https://colab.research.google.com/notebooks/data_table.ipynb>data table notebook</a>'\n",
              "            + ' to learn more about interactive tables.';\n",
              "          element.innerHTML = '';\n",
              "          dataTable['output_type'] = 'display_data';\n",
              "          await google.colab.output.renderOutput(dataTable, element);\n",
              "          const docLink = document.createElement('div');\n",
              "          docLink.innerHTML = docLinkHtml;\n",
              "          element.appendChild(docLink);\n",
              "        }\n",
              "      </script>\n",
              "    </div>\n",
              "  </div>\n",
              "  "
            ]
          },
          "metadata": {},
          "execution_count": 278
        }
      ]
    }
  ]
}